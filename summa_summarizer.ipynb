{
 "cells": [
  {
   "cell_type": "code",
   "execution_count": 1,
   "metadata": {},
   "outputs": [],
   "source": [
    "import TSF2"
   ]
  },
  {
   "cell_type": "code",
   "execution_count": 2,
   "metadata": {},
   "outputs": [],
   "source": [
    "with open ('Chapter2_after.txt', 'r', encoding = 'UTF-8') as inFile:\n",
    "    seg = inFile.readlines()\n",
    "seg = [s.replace('\\n', '').strip() for s in seg]"
   ]
  },
  {
   "cell_type": "code",
   "execution_count": 3,
   "metadata": {},
   "outputs": [
    {
     "data": {
      "text/plain": [
       "[\"Explain why achieving strategic fit is critical to a company's overall success.\",\n",
       " 'Describe how a company achieves strategic fit between its supply chain strategy and its competitive strategy.',\n",
       " 'Discuss the importance of expanding the scope of strategic fit across the supply chain.']"
      ]
     },
     "execution_count": 3,
     "metadata": {},
     "output_type": "execute_result"
    }
   ],
   "source": [
    "seg[:3]"
   ]
  },
  {
   "cell_type": "code",
   "execution_count": 4,
   "metadata": {},
   "outputs": [
    {
     "name": "stdout",
     "output_type": "stream",
     "text": [
      "Avg = 0.3418900908976691\n",
      "Dev = 0.25939590042438526\n"
     ]
    }
   ],
   "source": [
    "# TSF參數設定之參考論文\n",
    "# Improving Text Segmentation with Clustering Cohesion\n",
    "# Efficient linear text segmentation based on information retrieval techniques\n",
    "\n",
    "K = 8 # the number of sentences in a block\n",
    "THRESHOLD_DISSIM = 0.7 #根據Kern and Granitzer (2009)的建議訂為0.7。\n",
    "ParaSenList = TSF2.SegementPara(seg, K, THRESHOLD_DISSIM)"
   ]
  },
  {
   "cell_type": "code",
   "execution_count": 5,
   "metadata": {},
   "outputs": [
    {
     "name": "stdout",
     "output_type": "stream",
     "text": [
      "8\n",
      "60\n",
      "36\n",
      "1\n",
      "6\n",
      "9\n",
      "2\n",
      "1\n",
      "2\n",
      "59\n",
      "13\n",
      "1\n",
      "23\n",
      "12\n",
      "19\n",
      "1\n",
      "1\n",
      "32\n",
      "14\n",
      "19\n",
      "15\n",
      "8\n",
      "63\n",
      "1\n",
      "1\n",
      "11\n",
      "1\n",
      "46\n"
     ]
    }
   ],
   "source": [
    "for i in range(len(ParaSenList)):\n",
    "    print (len(ParaSenList[i]))"
   ]
  },
  {
   "cell_type": "markdown",
   "metadata": {},
   "source": [
    "## 讀取summarizer"
   ]
  },
  {
   "cell_type": "code",
   "execution_count": 70,
   "metadata": {},
   "outputs": [],
   "source": [
    "ParaSen = ' '.join(ParaSenList[0])"
   ]
  },
  {
   "cell_type": "code",
   "execution_count": 71,
   "metadata": {},
   "outputs": [
    {
     "name": "stdout",
     "output_type": "stream",
     "text": [
      "We also discuss the importance of expanding the scope of strategic fit from one operation within a company to all stages of the supply chain.\n"
     ]
    }
   ],
   "source": [
    "import summa\n",
    "def target_summary_length(text, summary_length_ratio=0.2):\n",
    "    return int(len(text.split()) * summary_length_ratio)\n",
    "summary = summa.summarizer.summarize(ParaSen, words=target_summary_length(ParaSen))\n",
    "print(summary)"
   ]
  },
  {
   "cell_type": "code",
   "execution_count": 72,
   "metadata": {},
   "outputs": [
    {
     "name": "stdout",
     "output_type": "stream",
     "text": [
      "We also discuss the importance of expanding the scope of strategic fit from one operation within a company to all stages of the supply chain.\n"
     ]
    }
   ],
   "source": [
    "print(summarizer.summarize(ParaSen))"
   ]
  },
  {
   "cell_type": "code",
   "execution_count": 73,
   "metadata": {},
   "outputs": [
    {
     "name": "stdout",
     "output_type": "stream",
     "text": [
      "In this chapter, we define supply chain strategy and explain how creating a strategic fit between a company's competitive strategy and its supply chain strategy affects performance.\n"
     ]
    }
   ],
   "source": [
    "try:\n",
    "    gensim_summary = gensim.summarization.summarize(ParaSen)\n",
    "except:\n",
    "    gensim_summary=\"NO\"\n",
    "print(gensim_summary)"
   ]
  },
  {
   "cell_type": "code",
   "execution_count": 61,
   "metadata": {},
   "outputs": [],
   "source": [
    "import nltk\n",
    "import gensim"
   ]
  },
  {
   "cell_type": "markdown",
   "metadata": {},
   "source": [
    "## 計算摘要（一次計算並寫檔）"
   ]
  },
  {
   "cell_type": "code",
   "execution_count": 70,
   "metadata": {},
   "outputs": [
    {
     "name": "stdout",
     "output_type": "stream",
     "text": [
      "Explain why achieving strategic fit is critical to a company's overall success. Describe how a company achieves strategic fit between its supply chain strategy and its competitive strategy. Discuss the importance of expanding the scope of strategic fit across the supply chain. Describe the major challenges that must be overcome to manage a supply chain successfully. In Chapter 1, we discussed what a supply chain is and the importance of supply chain design, planning, and operation to a firm's success. In this chapter, we define supply chain strategy and explain how creating a strategic fit between a company's competitive strategy and its supply chain strategy affects performance. We also discuss the importance of expanding the scope of strategic fit from one operation within a company to all stages of the supply chain. A company's competitive strategy defines, relative to its competitors, the set of customer needs that it seeks to satisfy through its products and services.\n",
      "For example, Wal-Mart aims to provide high availability of a variety of products of reasonable quality at low prices. Most products sold at Wal-Mart are commonplace (everything from home appliances to clothing) and can be purchased elsewhere. What Wal-Mart provides is a low price and product availability. McMaster-Carr sells maintenance, repair, and operations (MRO) products. It offers more than 500,000 products through both a catalog and a Web site. Its competitive strategy is built around providing the customer with convenience, availability, and responsiveness. With this focus on responsiveness, McMaster does not compete based on low price. Clearly, the competitive strategy at Wal-Mart is different from that at McMaster. We can also contrast Blue Nile, with its online retailing model for diamonds, with Zales, which sells diamond jewelry through retail outlets. Blue Nile has emphasized the variety of diamonds available from its Web site and the fact that its margins are significantly lower than its bricks-and-mortar competition. Customers, however, have to wait to get their jewelry and do not have any opportunity to touch and see it before purchase (Blue Nile does provide a 30-day return period). At Zales, in contrast, a customer can walk into the retail store, be helped by a salesperson, and leave immediately with a diamond ring. The amount of variety available at a Zales store, however, is limited. Whereas Blue Nile offers more than 70,000 stones on its site, a typical Zales store carries less than a thousand. In each case, the competitive strategy is defined based on how the customer prioritizes product cost, delivery time, variety, and quality. A McMaster-Carr customer places greater emphasis on product variety and response  19  . Finance, Accounting, Information Technology, Human Resources  New Product Development  Marketing and Sales  Operations Distribution Service  . A Wal-Mart customer, in contrast, places greater emphasis on cost. A Blue Nile customer, purchasing online, places great emphasis on product variety and cost. A customer purchasing jewelry at Zales is most concerned with fast response time and help in product selection. Thus, a firm's competitive strategy will be defined based on its customers' priorities. Competitive strategy targets one or more customer segments and aims to provide products and services that satisfy these customers' needs. To see the relationship between competitive and supply chain strategies, we start with the value chain for a typical organization, as shown in Figure 2-1. The value chain begins with new product development, which creates specifications for the product. Marketing and sales generate demand by publicizing the customer priorities that the products and services will satisfy. Marketing also brings customer input back to new product development. Using new product specifications, operations transforms inputs to outputs to create the product. Distribution either takes the product to the customer or brings the customer to the product. Service responds to customer requests during or after the sale. These are core processes or functions that must be performed for a successful sale. Finance, accounting, information technology, and human resources support and facilitate the functioning of the value chain. To execute a company's competitive strategy, all these functions play a role, and each must develop its own strategy. Here, strategy refers to what each process or function will try to do particularly well. A product development strategy specifies the portfolio of new products that a company will try to develop. It also dictates whether the development effort will be made internally or outsourced. A marketing and sales strategy specifies how the market will be segmented and how the product will be positioned, priced, and promoted. A supply chain strategy determines the nature of procurement of raw materials, transportation of materials to and from the company, manufacture of the product or operation to provide the service, and distribution of the product to the customer, along with any follow-up service and a specification of whether these processes will be performed in-house or outsourced. Supply chain strategy specifies what the operations, distribution, and service functions, whether performed in-house or outsourced, should do particularly well. Because our focus here is on supply chain strategy, we define it in more detail. Supply chain strategy includes a specification of the broad structure of the supply chain and what many traditionally call \"supplier strategy,\" \"operations strategy,\" and \"logistics strategy.\" For example, Dell's initial decision to sell direct, its 2007 decision to start selling PCs through resellers, and Cisco's decision to use contract manufacturers define the broad structure of their supply chains and are all part of their supply chain strategies. Supply chain strategy also includes design decisions regarding inventory, transportation, operating facilities, and information flows. For example, Amazon's decisions to build warehouses to stock some products and to continue using distributors as a source of other products are part of its supply chain strategy. Similarly, Toyota's decision to have production facilities in each of its major markets is part of its supply chain strategy. For a firm to succeed, all functional strategies must support one another and the competitive strategy. For example, Seven-Eleven Japan's success can be related to the excellent fit among its functional strategies. Marketing at Seven-Eleven has emphasized convenience in the form of easy  . access to stores and availability of a wide range of products and services. New product development at Seven-Eleven is constantly adding products and services, such as bill payment services that draw customers in and exploit the excellent information infrastructure and the fact that customers frequently visit Seven-Eleven. Operations and distribution at Seven-Eleven have focused on having a high density of stores, being very responsive, and providing an excellent information infrastructure. The result is a virtuous cycle in which supply chain infrastructure is exploited to offer new products and service that increase demand, and the increased demand in turn makes it easier for operations to improve the density of stores, responsiveness in replenishment, and the information infrastructure. In the next section, we elaborate on this notion of fit and seek to answer this question: Given its competitive strategy, what should a company's supply chain try to do particularly well? Strategic fit requires that both the competitive and supply chain strategies of a company have aligned goals. It refers to consistency between the customer priorities that the competitive strategy hopes to satisfy and the supply chain capabilities that the supply chain strategy aims to build. For a company to achieve strategic fit, it must accomplish the following: 1. The competitive strategy and all functional strategies must fit together to form a coordinated overall strategy. Each functional strategy must support other functional strategies and help a firm reach its competitive strategy goal. The different functions in a company must appropriately structure their processes and resources to be able to execute these strategies successfully. The design of the overall supply chain and the role of each stage must be aligned to support the supply chain strategy. A company may fail either because of a lack of strategic fit or because its overall supply chain design, processes, and resources do not provide the capabilities to support the desired strategic fit.\n",
      "Consider, for example, a situation in which marketing is publicizing a company's ability to provide a large variety of products quickly; simultaneously, distribution is targeting the lowest cost means of transportation. In this situation, it is likely that distribution will delay orders so it can get better transportation economies by grouping orders together or using inexpensive but slow modes of transportation. This action conflicts with marketing's stated goal of providing variety quickly. Similarly, consider a scenario in which a retailer has decided to provide a high level of variety while carrying low levels of inventory but has selected suppliers and carriers based on their low price and not their responsiveness. In this case, the retailer is likely to end up with unhappy customers because of poor product availability. To elaborate on strategic fit, let us consider the evolution of Dell and its supply chain. Between 1993 and 2006, Dell's competitive strategy was to provide a large variety of customizable products at a reasonable price. Given the focus on customization, Dell's supply chain was designed to be very responsive. Assembly facilities owned by Dell were designed to be flexible and to easily handle the wide variety of configurations requested by customers. A facility that focused on low cost and efficiency by producing large volumes of the same configuration would not have been appropriate in this setting. The notion of strategic fit also extended to other functions within Dell. Dell PCs were designed to use common components and to allow rapid assembly. This design strategy clearly aligned well with the supply chain's goal of assembling customized PCs in response to customer orders. Dell worked hard to carry this alignment to its suppliers. Given that Dell produced customized products with low levels of inventory, it was crucial that suppliers and carriers be highly responsive. For example, the ability of carriers to merge a PC from Dell with a monitor from Sony allowed Dell not to carry any Sony monitors in inventory. Starting in 2007, however, Dell altered its competitive strategy and supply chain. While it continued to offer customization, the company also branched out into selling PCs through retail stores such as Wal-Mart. The assortment at retail, however, is very different from the focus on customization in the direct sales channel. Through Wal-Mart, Dell offers a limited variety of desktops and laptops. It is also essential that monitors and other peripherals be available in inventory because a customer buying a PC at Wal-Mart is not willing to wait for the monitor to show up later. Clearly, the flexible and responsive supply chain that aligns well with customer needs for customization does not necessarily align well when customers no longer want customization but prefer low prices. This raises the question of how Dell should adjust the various functional strategies given the change in competitive strategy if it is to maintain strategic fit. One of Dell's initial responses has been to not build everything to order and increase its reliance on contract manufacturers based in low-cost countries for assembly. How Is Strategic Fit Achieved? What does a company need to do to achieve that all-important strategic fit between the supply chain and competitive strategies? A competitive strategy will specify, either explicitly or implicitly, one or more customer segments that a company hopes to satisfy. To achieve strategic fit, a company must ensure that its supply chain capabilities support its ability to satisfy the needs of the targeted customer segments. There are three basic steps to achieving this strategic fit, which we outline here and then discuss in more detail: 1. Understanding the Customer and Supply Chain Uncertainty: First, a company must understand the customer needs for each targeted segment and the uncertainty these needs impose on the supply chain. These needs help the company define the desired cost and service requirements. The supply chain uncertainty helps the company identify the extent of the unpredictability of demand, disruption, and delay that the supply chain must be prepared for. Understanding the Supply Chain Capabilities: Each of the many types of supply chains is designed to perform different tasks well. A company must understand what its supply chain is designed to do well. Achieving Strategic Fit: If a mismatch exists between what the supply chain does particularly well and the desired customer needs, the company will either need to restructure the supply chain to support the competitive strategy or alter its competitive strategy. STEP 1: UNDERSTANDING THE CUSTOMER AND SUPPLY CHAIN UNCERTAINTY To understand the customer, a company must identify the needs of the customer segment being served.\n",
      "Let us compare Seven-Eleven Japan and a discounter such as Sam's Club (a part of Walmart).\n",
      "When customers go to Seven-Eleven to purchase detergent, they go there for the convenience of a nearby store and are not necessarily looking for the lowest price. In contrast, low price is very important to a Sam's Club customer. This customer may be willing to tolerate less variety and even purchase large package sizes as long as the price is low. Even though customers purchase detergent at both places, the demand varies along certain attributes. In the case of Seven-Eleven, customers are in a hurry and want convenience. In the case of Sam's Club, they want a low price and are willing to spend time getting it.\n",
      "In general, customer demand from different segments varies along several attributes as follows: ?The Quantity of the Product Needed in Each Lot: An emergency order for material needed to repair a production line is likely to be small. An order for material to construct a new production line is likely to be large. ?The Response Time That Customers Are Willing to Tolerate: The tolerable response time for the emergency order is likely to be short, whereas the allowable response time for the construction order is apt to be long. ?The Variety of Products Needed: A customer may place a high premium on the availability of all parts of an emergency repair order from a single supplier. This may not be the case for the construction order. ?The Service Level Required: A customer placing an emergency order expects a high level of product availability. This customer may go elsewhere if all parts of the order are not immediately available. This is not apt to happen in the case of the construction order, for which a long lead time is likely. ?The Price of the Product: The customer placing the emergency order is apt to be much less sensitive to price than the customer placing the construction order.\n",
      "?The Desired Rate of Innovation in the Product: Customers at a high-end department store expect a lot of innovation and new designs in the store's apparel. Customers at Walmart may be less sensitive to new product innovation.\n",
      "Each customer in a particular segment will tend to have similar needs, whereas customers in a different segment can have very different needs.\n",
      "Although we have described the many attributes along which customer demand varies, our goal is to identify one key measure for combining all of these attributes. This single measure then helps define what the supply chain should do particularly well.\n",
      "Implied Demand Uncertainty. At first glance, it may appear that each of the customer need categories should be viewed differently, but in a fundamental sense, each customer need can be translated into the metric of implied demand uncertainty, which is demand uncertainty imposed on the supply chain because of the customer needs it seeks to satisfy. We make a distinction between demand uncertainty and implied demand uncertainty. Demand uncertainty reflects the uncertainty of customer demand for a product. Implied demand uncertainty, in contrast, is the resulting uncertainty for only the portion of the demand that the supply chain plans to satisfy based on the attributes the customer desires. For example, a firm supplying only emergency orders for a product will face a higher implied demand uncertainty than a firm that supplies the same product with a long lead time, as the second firm has an opportunity to fulfill the orders evenly over the long lead time. Another illustration of the need for this distinction is the impact of service level. As a supply chain raises its level of service, it must be able to meet a higher and higher percentage of actual demand, forcing it to prepare for rare surges in demand. Thus, raising the service level increases the implied demand uncertainty even though the product's underlying demand uncertainty does not change. Both the product demand uncertainty and various customer needs that the supply chain tries to fill affect implied demand uncertainty. Table 2-1 illustrates how various customer needs affect implied demand uncertainty. Table 2-1 Impact of Customer Needs on Implied Demand Uncertainty  Customer Need  Causes Implied Demand Uncertainty to... Range of quantity required increases Lead time decreases Variety of products required increases Number of channels through which product may be acquired increases Rate of innovation increases Required service level increases  Increase because a wider range of the quantity required implies greater variance in demand Increase because there is less time in which to react to orders Increase because demand per product becomes more disaggregate Increase because the total customer demand is now disaggregated over more channels Increase because new products tend to have more uncertain demand Increase because the firm now has to handle unusual surges in demand  . Table 2-2 Correlation Between Implied Demand Uncertainty and Other Attributes  Low Implied Uncertainty  High Implied Uncertainty  Product margin Average forecast error Average stockout rate Average forced season-end markdown  Low 10% 1% to 2% 0%  High 40% to 100% 10% to 40% 10% to 25%  Source: Adapted from \"What Is the Right Supply Chain for Your Product?\" Marshall L. Fisher, Harvard Business Review (March耍pril 1997), 83?3. As each individual customer need contributes to the implied demand uncertainty, we can use implied demand uncertainty as a common metric with which to distinguish different types of demand. Fisher (1997) pointed out that implied demand uncertainty is often correlated with other characteristics of demand, as shown in Table 2-2. An explanation follows: 1. Products with uncertain demand are often less mature and have less direct competition. As a result, margins tend to be high. Forecasting is more accurate when demand has less uncertainty. Increased implied demand uncertainty leads to increased difficulty in matching supply with demand. For a given product, this dynamic can lead to either a stockout or an oversupply situation. Increased implied demand uncertainty thus leads to both higher oversupply and a higher stockout rate. Markdowns are high for products with greater implied demand uncertainty because oversupply often results. First, let us take an example of a product with low implied demand uncertainty--such as table salt. Salt has a low margin, accurate demand forecasts, low stockout rates, and virtually no markdowns. These characteristics match well with Fisher's chart of characteristics for products with highly certain demand. On the other end of the spectrum, a new cell phone has high implied demand uncertainty. It will likely have a high margin, inaccurate demand forecasts, high stockout rates (if it is successful), and large markdowns (if it is a failure). This too matches well with Table 2-2. Lee (2002) pointed out that along with demand uncertainty, it is important to consider uncertainty resulting from the capability of the supply chain. For example, when a new component is introduced in the PC industry, the quality yields of the production process tend to be low and breakdowns are frequent. As a result, companies have difficulty delivering according to a well-defined schedule, resulting in high supply uncertainty for PC manufacturers. As the production technology matures and yields improve, companies are able to follow a fixed delivery schedule, resulting in low supply uncertainty. Table 2-3 illustrates how various characteristics of supply sources affect the supply uncertainty. Table 2-3 Impact of Supply Source Capability on Supply Uncertainty  Supply Source Capability  Causes Supply Uncertainty to... Frequent breakdowns Unpredictable and low yields Poor quality Limited supply capacity Inflexible supply capacity Evolving production process  Increase Increase Increase Increase Increase Increase  Source: Adapted from \"Aligning Supply Chain Strategies with Product Uncertainties.\" Hau L. Lee, California Management Review (Spring 2002), 105?9. Predictable supply and demand  . Predictable supply and uncertain demand, or uncertain supply and predictable demand, or somewhat uncertain supply and demand  Highly uncertain supply and demand  Salt at a supermarket  An existing automobile model  . A new communication device  Supply uncertainty is also strongly affected by the life-cycle position of the product. New products being introduced have higher supply uncertainty because designs and production processes are still evolving. In contrast, mature products have less supply uncertainty. We can create a spectrum of uncertainty by combining the demand and supply uncertainty. This implied uncertainty spectrum is shown in Figure 2-2. A company introducing a brand-new cell phone based on entirely new components and technology faces high implied demand uncertainty and high supply uncertainty. As a result, the implied uncertainty faced by the supply chain is extremely high. In contrast, a supermarket selling salt faces low implied demand uncertainty and low levels of supply uncertainty, resulting in a low implied uncertainty. Many agricultural products such as coffee are examples of supply chains facing low levels of implied demand uncertainty but significant supply uncertainty based on weather. The supply chain thus has to face an intermediate level of implied uncertainty. Key Point The first step in achieving strategic fit between competitive and supply chain strategies is to understand customers and supply chain uncertainty. Uncertainty from the customer and the supply chain can be combined and mapped on the implied uncertainty spectrum. STEP 2: UNDERSTANDING THE SUPPLY CHAIN CAPABILITIES After understanding the uncertainty that the company faces, the next question is: How does the firm best meet demand in that uncertain environment? Creating strategic fit is all about creating a supply chain strategy that best meets the demand a company has targeted given the uncertainty it faces. We now consider the characteristics of supply chains and categorize them based on different characteristics that influence their responsiveness and efficiency. First, we provide some definitions. Supply chain responsiveness includes a supply chain's ability to do the following: ?Respond to wide ranges of quantities demanded ?Meet short lead times ?Handle a large variety of products ?Build highly innovative products ?Meet a high service level ?Handle supply uncertainty These abilities are similar to many of the characteristics of demand and supply that led to high implied uncertainty. The more of these abilities a supply chain has, the more responsive it is.\n"
     ]
    },
    {
     "name": "stdout",
     "output_type": "stream",
     "text": [
      "Responsiveness, however, comes at a cost. For instance, to respond to a wider range of quantities demanded, capacity must be increased, which increases costs. This increase in cost leads to the second definition: Supply chain efficiency is the inverse of the cost of making and delivering a product to the customer. Increases in cost lower efficiency. For every strategic choice to increase responsiveness, there are additional costs that lower efficiency. The cost-responsiveness efficient frontier is the curve in Figure 2-3 showing the lowest possible cost for a given level of responsiveness. Lowest cost is defined based on existing technology; not every firm is able to operate on the efficient frontier, which represents the costresponsiveness performance of the best supply chains. A firm that is not on the efficient frontier can improve both its responsiveness and its cost performance by moving toward the efficient frontier. In contrast, a firm on the efficient frontier can improve its responsiveness only by increasing cost and becoming less efficient. Such a firm must then make a trade-off between efficiency and responsiveness. Of course, firms on the efficient frontier are also continuously improving their processes and changing technology to shift the efficient frontier itself. Given the trade-off between cost and responsiveness, a key strategic choice for any supply chain is the level of responsiveness it seeks to provide. Supply chains range from those that focus solely on being responsive to those that focus on a goal of producing and supplying at the lowest possible cost.\n",
      "Figure 2-4 shows the responsiveness spectrum and where some supply chains fall on this spectrum.\n",
      "The more capabilities constituting responsiveness a supply chain has, the more responsive it is. Seven-Eleven Japan replenishes its stores with breakfast items in the morning, lunch items in the afternoon, and dinner items at night. As a result, the available product variety changes by time of day. Seven-Eleven responds quickly to orders, with store managers placing replenishment orders less than 12 hours before they are supplied. This practice makes the Seven-Eleven supply chain very responsive. Another example of a responsive supply chain is W.W. Grainger. The company faces both demand and supply uncertainty; therefore, the supply chain has been designed to deal effectively with both to provide customers with a wide variety of MRO products within 24 hours. An efficient supply chain, in contrast, lowers cost by eliminating some of its responsive capabilities. For example, Sam's Club sells a limited variety of products in large package sizes. The supply chain is capable of low costs, and the focus of this supply chain is clearly on efficiency. Responsiveness High  Low High  Cost  Low  . Highly efficient  Somewhat efficient  . Somewhat responsive  Highly responsive  Integrated steel mills: Production scheduled weeks or months in advance with little variety or flexibility  Hanes apparel: A traditional make-tostock manufacturer with production lead time of several weeks  . Most automotive production: Delivering a large variety of products in a couple of weeks  Seven-Eleven Japan: Changing merchandise mix by location and time of day  Key Point The second step in achieving strategic fit between competitive and supply chain strategies is to understand the supply chain and map it on the responsiveness spectrum. STEP 3: ACHIEVING STRATEGIC FIT After mapping the level of implied uncertainty and understanding the supply chain position on the responsiveness spectrum, the third and final step is to ensure that the degree of supply chain responsiveness is consistent with the implied uncertainty. The goal is to target high responsiveness for a supply chain facing high implied uncertainty, and efficiency for a supply chain facing low implied uncertainty. For example, the competitive strategy of McMaster-Carr targets customers who value having a large variety of MRO products delivered to them within 24 hours. Given the large variety of products and rapid desired delivery, demand from McMaster-Carr customers can be characterized as having high implied demand uncertainty. McMaster-Carr has the option of designing an efficient or responsive supply chain. An efficient supply chain may carry less inventory and maintain a level load on the warehouse to lower picking and packing costs. If McMaster-Carr made these choices, it would have difficulty supporting the customer's desire for a wide variety of products that are delivered within 24 hours. To serve its customers effectively, McMaster-Carr carries a high level of inventory and picking and packing capacity. Clearly, a responsive supply chain is better suited to meet the needs of customers targeted by McMaster-Carr even if it results in higher costs.\n",
      "Now, consider a pasta manufacturer such as Barilla. Pasta is a product with relatively stable customer demand, giving it a low implied demand uncertainty. Supply is also quite predictable. Barilla could design a highly responsive supply chain in which pasta is custom made in small batches in response to customer orders and shipped via a rapid transportation mode such as FedEx. This choice would obviously make the pasta prohibitively expensive, resulting in a loss of customers. Barilla therefore is in a much better position if it designs a more efficient supply chain with a focus on cost reduction. From the preceding discussion, it follows that increasing implied uncertainty from customers and supply sources is best served by increasing responsiveness from the supply chain. This relationship is represented by the \"zone of strategic fit\" illustrated in Figure 2-5. For a high level of performance, companies should move their competitive strategy (and resulting implied uncertainty) and supply chain strategy (and resulting responsiveness) toward the zone of strategic fit. Responsive Supply Chain  Responsiveness Spectrum  ZSotrnaeteogfic Fit  Efficient Supply Chain Certain Demand  Implied Uncertainty Spectrum  . Uncertain Demand  The next step in achieving strategic fit is to assign roles to different stages of the supply chain that ensure the appropriate level of responsiveness. It is important to understand that the desired level of responsiveness required across the supply chain may be attained by assigning different levels of responsiveness and efficiency to each stage of the supply chain as illustrated by the following examples.\n",
      "IKEA is a Swedish furniture retailer with large stores in more than 20 countries. IKEA has targeted customers who want stylish furniture at a reasonable cost. The company limits the variety of styles that it sells through modular design. The large scale of each store and the limited variety of furniture (through modular design) decrease the implied uncertainty faced by the supply chain. IKEA stocks all styles in inventory and serves customers from stock. Thus, it uses inventory to absorb all the uncertainty faced by the supply chain. The presence of inventory at large IKEA stores allows replenishment orders to its manufacturers to be more stable and predictable. As a result, IKEA passes along little uncertainty to its manufacturers, who tend to be located in lowcost countries and focus on efficiency. IKEA provides responsiveness in the supply chain, with the stores absorbing most of the uncertainty and being responsive, and the suppliers absorbing little uncertainty and being efficient. In contrast, another approach for responsiveness may involve the retailer holding little inventory. In this case, the retailer does not contribute significantly to supply chain responsiveness, and most of the implied demand uncertainty is passed on to the manufacturer. For the supply chain to be responsive, the manufacturer now needs to be flexible and have low response times. An example of this approach is England, Inc., a furniture manufacturer located in Tennessee. Every week, the company makes several thousand sofas and chairs to order, delivering them to furniture stores across the country within three weeks. England Inc.'s retailers allow customers to select from a wide variety of styles and promise relatively quick delivery. This imposes a high level of implied uncertainty on the supply chain. The retailers, however, do not carry much inventory and pass most of the implied uncertainty on to England, Inc. The retailers can thus be efficient because most of the implied uncertainty for the supply chain is absorbed by England, Inc., with its flexible manufacturing process. England, Inc., itself has a choice of how much uncertainty it passes along to its suppliers.\n",
      "By holding more raw material inventories, the company allows its suppliers to focus on efficiency.\n",
      "If it decreases its raw material inventories, its suppliers must become more responsive.\n",
      "Supplier absorbs the least implied uncertainty and must be very efficient. Manufacturer absorbs less implied uncertainty and must be somewhat efficient. Retailer absorbs most of the implied uncertainty and must be very responsive. Supplier Manufacturer Retailer  Supply Chain I  Extent of Implied Uncertainty for the Supply Chain  Supplier Manufacturer Retailer  Supply Chain II  Supplier absorbs less implied uncertainty and must be somewhat efficient. Manufacturer absorbs most of the implied uncertainty and must be very responsive. Retailer absorbs the least implied uncertainty and must be very efficient. The preceding discussion illustrates that the supply chain can achieve a given level of responsiveness by adjusting the roles of each of its stage. Making one stage more responsive allows other stages to focus on becoming more efficient. The best combination of roles depends on the efficiency and flexibility available at each stage. The notion of achieving a given level of responsiveness by assigning different roles and levels of uncertainty to different stages of the supply chain is illustrated in Figure 2-6. The figure shows two supply chains that face the same implied uncertainty but achieve the desired level of responsiveness with different allocations of uncertainty and responsiveness across the supply chain. Supply Chain I has a very responsive retailer who absorbs most of the uncertainty, allowing (actually requiring) the manufacturer and supplier to be efficient. Supply Chain II, in contrast, has a very responsive manufacturer who absorbs most of the uncertainty, thus allowing the other stages to focus on efficiency. To achieve complete strategic fit, a firm must also ensure that all its functions maintain consistent strategies that support the competitive strategy. All functional strategies must support the goals of the competitive strategy. All substrategies within the supply chain--such as manufacturing, inventory, and purchasing--must also be consistent with the supply chain's level of responsiveness. Table 2-4 lists some of the major differences in functional strategy between supply chains that are efficient and those that are responsive. Key Point The final step in achieving strategic fit is to match supply chain responsiveness with the implied uncertainty from demand and supply. The supply chain design and all functional strategies within the firm must also support the supply chain's level of responsiveness. Table 2-4 Comparison of Efficient and Responsive Supply Chains  Efficient Supply Chains  Responsive Supply Chains  Primary goal Product design strategy Pricing strategy Manufacturing strategy Inventory strategy Lead-time strategy Supplier strategy  Supply demand at the lowest cost Maximize performance at a minimum product cost Lower margins because price is a prime customer driver Lower costs through high utilization Minimize inventory to lower cost Reduce, but not at the expense of costs Select based on cost and quality  Respond quickly to demand Create modularity to allow postponement of product differentiation Higher margins because price is not a prime customer driver Maintain capacity flexibility to buffer against demand/supply uncertainty Maintain buffer inventory to deal with demand/supply uncertainty Reduce aggressively, even if the costs are significant Select based on speed, flexibility, reliability, and quality  Source: Adapted from \"What Is the Right Supply Chain for Your Product?\" Marshall L. Fisher, Harvard Business Review (March耍pril 1997), 83?3. Tailoring the Supply Chain for Strategic Fit Our previous discussion focused on achieving strategic fit when a firm serves a single market segment and the result is a well-defined and narrow strategic position. While such a scenario holds for firms like IKEA, many firms are required to achieve strategic fit while serving many customer segments with a variety of products across multiple channels. In such a scenario, a \"one size fits all\" supply chain cannot provide strategic fit, and a tailored supply chain strategy is required. For example, when all its customers valued having customized PCs delivered within days, Dell built a responsive supply chain that aligned well with its strategic position. As Dell added the Wal-Mart channel, whose customers valued low price, its responsive supply chain no longer aligned with this new channel. Dell had to design a more efficient supply chain that was tailored to serve the low-cost channel using contract manufacturers in low-cost countries. Another example is Levi Strauss, which sells both customized and standard-sized jeans. Demand for standard-sized jeans has a much lower demand uncertainty than demand for customized jeans. As a result, Levi Strauss must tailor its supply chain to meet both sets of needs. In each of the previous examples, the products sold and the customer segments served have different implied demand uncertainty. When devising supply chain strategy in these cases, the key issue for a company is to design a tailored supply chain that is able to be efficient when implied uncertainty is low and responsive when it is high.\n",
      "By tailoring its supply chain, a company can provide responsiveness to fast-growing products, customer segments, and channels while maintaining low cost for mature, stable products and customer segments. Tailoring the supply chain requires sharing some links in the supply chain with some products, while having separate operations for other links. The links are shared to achieve maximum possible efficiency while providing the appropriate level of responsiveness to each segment. For instance, all products may be made on the same line in a plant, but products requiring a high level of responsiveness may be shipped using a fast mode of transportation such as FedEx. Those products that do not have high responsiveness needs may be sent by slower and less expensive means such as truck, rail, or even ship. In other instances, products requiring high responsiveness may be manufactured using a flexible process, whereas products requiring less responsiveness may be manufactured using a less responsive but more efficient process. The mode of transportation used in both cases, however, may be the same. In other cases, some products may be held at regional warehouses close to the customer, whereas others may be held in a centralized warehouse far from  . W.W. Grainger holds fast-moving items with low implied uncertainty in its decentralized locations close to the customer. It holds slow-moving items with higher implied demand uncertainty in a centralized warehouse. Appropriate tailoring of the supply chain helps a firm achieve varying levels of responsiveness for a low overall cost. The level of responsiveness is tailored to each product, channel, or customer segment. Tailoring of the supply chain is an important concept that we develop further in subsequent chapters. The concept of tailoring to achieve strategic fit is important in industries such as high-tech and pharmaceuticals wherein innovation is critical and products move through a life cycle.\n",
      "Let us consider changes in demand and supply characteristics over the life cycle of a product. Toward the beginning stages of a product's life cycle: 1. Demand is very uncertain, and supply may be unpredictable. Margins are often high, and time is crucial to gaining sales. Product availability is crucial to capturing the market. Cost is often a secondary consideration. Consider a pharmaceutical firm introducing a new drug. Initial demand for the drug is highly uncertain, margins are typically high, and product availability is the key to capturing market share. The introductory phase of a product's life cycle corresponds to high implied uncertainty given the high demand uncertainty and the need for a high level of product availability. In such a situation, responsiveness is the most important characteristic of the supply chain. As the product becomes a commodity product later in its life cycle, the demand and supply characteristics change. At this stage, it is typically the case that 1. Demand has become more certain, and supply is predictable. Margins are lower as a result of an increase in competitive pressure. Price becomes a significant factor in customer choice. In the case of a pharmaceutical company, these changes occur when demand for the drug stabilizes, production technologies are well developed, and supply is predictable. This stage corresponds to a low level of implied uncertainty. As a result, the supply chain needs to change. In such a situation, efficiency becomes the most important characteristic of the supply chain.\n",
      "The pharmaceutical industry has reacted by building a mix of flexible and efficient capacity whose use is tailored to the product life cycle. New products are typically introduced using flexible capacity that is more expensive but responsive enough to deal with the high level of uncertainty during the early stages of the life cycle. Mature products with high demand are shifted to dedicated capacity that is highly efficient because it handles low levels of uncertainty and enjoys the advantage of high scale. The tailored capacity strategy has allowed pharmaceutical firms to maintain strategic fit for a wide range of products at different stages of their life cycle. In the next section, we describe how the scope of the supply chain has expanded when achieving strategic fit. We also discuss why expanding the scope of strategic fit is critical to supply chain success. Key Point When supplying multiple customer segments with a wide variety of products through several channels, a firm must tailor its supply chain to achieve strategic fit. A key issue relating to strategic fit is the scope, in terms of supply chain stages, across which the strategic fit applies. Scope of strategic fit refers to the functions within the firm and stages across the supply chain that devise an integrated strategy with an aligned objective. At one extreme, every operation within each functional area devises its own independent strategy with the objective of optimizing its individual performance. In this case, the scope of strategic fit is restricted to an operation in a functional area within a stage of the supply chain. At the opposite extreme, all functional areas across all stages of the supply chain devise aligned strategies that maximize supply chain surplus. In this case, the scope of strategic fit extends to the entire supply chain. In this section, we discuss how expanding the scope of strategic fit improves supply chain performance. For example, IKEA has achieved great success by expanding its scope of strategic fit to include all functions and stages within the supply chain.\n",
      "Its competitive strategy is to offer a reasonable variety of home furniture and furnishings at low prices. Its stores are large and carry all products in inventory. Its products are designed to be modular and easy to assemble. The large stores and modular design allow IKEA to move final assembly and lastmile delivery (two high-cost operations) to the customer. As a result, all functions within the IKEA supply chain focus on efficiency. Its suppliers concentrate on producing large volumes of a few modules at low cost. Its transportation function focuses on shipping large quantities of high-density unassembled modules at low cost to the large stores. The strategy at every stage and function of the IKEA supply chain is aligned to grow the supply chain surplus.\n"
     ]
    },
    {
     "name": "stdout",
     "output_type": "stream",
     "text": [
      "Intraoperation Scope: The Minimize Local Cost View The intraoperation scope has each stage of the supply chain devising strategy independently. In such a setting, the resulting collection of strategies typically does not align, resulting in conflict. This limited scope was the dominant practice during the 1950s and 1960s, when each operation within each stage of the supply chain attempted to minimize its own costs. As a result of this narrow scope, the transportation function at many firms may have shipped full truckloads without any regard for the resulting impact on inventories or responsiveness. Historically, it was this localized scope that led sales functions in many consumer goods firms to offer trade promotions to enhance revenue without any consideration for how those promotions impacted production, warehousing, and transportation costs. The resulting lack of alignment diminished the supply chain surplus. Intrafunctional Scope: The Minimize Functional Cost View Over time, managers recognized the weakness of the intraoperation scope and attempted to align all operations within a function. For example, the use of airfreight could be justified only if the resulting savings in inventories and improved responsiveness justified the increased transportation cost. With the intrafunctional view, firms attempted to align all operations within a function. All supply chain functions including sourcing, manufacturing, warehousing, and transportation had to align their strategy to minimize total functional cost. As a result, product could be sourced from a higher cost local supplier because the resulting decrease in inventory and transportation costs more than compensated for the higher unit cost. Interfunctional Scope: The Maximize Company Profit View The key weakness of the intrafunctional view is that different functions within a firm may have conflicting objectives. Over time, companies became aware of this weakness as they saw, for example, marketing and sales focusing on revenue generation, and manufacturing and distribution focusing on cost reduction. Actions the two functions took were often in conflict, hurting the firm's overall performance. Companies realized the importance of expanding the scope of  . strategic fit and aligning strategy across all functions within the firm. With the interfunctional scope, the goal is to maximize company profit. To achieve this goal, all functional strategies are developed to align with one another and the competitive strategy. The goal of aligning strategies across functions results in warehouse operations within McMaster-Carr carrying high inventory and excess capacity to ensure that marketing's promise of next-day delivery is always met. The company's profits grow because the increased margin that customers are willing to pay for high reliability more than compensates for the higher inventory and warehouse expense. The company enjoys high profits because all functions align their strategy around the common objective of customer convenience in the form of next-day delivery of a wide variety of MRO products. Intercompany Scope: The Maximize Supply Chain Surplus View The goal of only maximizing company profits can sometimes lead to conflict between stages of a supply chain. For example, both the supplier and the manufacturer in a supply chain may prefer to have the other side hold most of the inventory with the goal of improving their own profits. If the two parties cannot look beyond their own profits, the more powerful party will simply force the other stage to hold inventories without any regard for where inventories are best held. The result is a decrease in the supply chain surplus--the total pie that both parties get to share. The intercompany scope proposes a different approach. Instead of just forcing the inventory onto the weaker party, the two parties work together to reduce the amount of inventory required. By working together and sharing information, they can reduce inventories and total cost, thus growing the supply chain surplus. The higher the supply chain surplus, the more competitive the supply chain is. Key Point The intercompany scope of strategic fit is essential today because the competitive playing field has shifted from company versus company to supply chain versus supply chain. A company's partners in the supply chain may well determine the company's success, as the company is intimately tied to its supply chain. A good example of the intercompany approach is how Wal-Mart and P&G plan promotions jointly. The two companies have a team (with employees from both parties) that works to ensure that the promotion is timed and executed to benefit both sides. Prior to this collaborative effort, promotions at Wal-Mart sometimes required P&G to run its facilities with overtime at high cost. The result was a decrease in the supply chain surplus because the product was sold at a discount at a time when it was being produced at high marginal cost. The collaborative teams now try to grow the supply chain surplus by timing the promotion to have high sales impact while minimizing the marginal cost increase. They work to ensure that the product is produced in such a manner that all promotion demand is met without generating excess unsold inventories. Agile Intercompany Scope Up to this point, we have discussed strategic fit in a static context; that is, the players in a supply chain and the customer needs do not change over time. In reality, the situation is much more dynamic. Product life cycles are getting shorter, and companies must satisfy the changing needs of individual customers. A company may have to partner with many firms, depending on the product being produced and the customer being served. The strategy and operations at firms must be agile enough to maintain strategic fit in a changing environment. Agile intercompany scope refers to a firm's ability to achieve strategic fit when partnering with supply chain stages that change over time. Firms must think in terms of supply chains  . Key Point The intercompany scope of strategic fit requires firms to evaluate every action in the context of the entire supply chain. This broad scope increases the size of the surplus to be shared among all stages of the supply chain. consisting of many players at each stage. For example, a manufacturer may interface with a different set of suppliers and distributors depending on the product being produced and the customer being served. Furthermore, as customer needs vary over time, firms must have the ability to become part of new supply chains while ensuring strategic fit. This level of agility becomes more important as the competitive environment becomes more dynamic. The key to achieving strategic fit is a company's ability to find a balance between responsiveness and efficiency that best matches the needs of its target customer. In deciding where this balance should be located on the responsiveness spectrum, companies face many challenges. On one hand, these challenges have made it much more difficult for companies to create the ideal balance. On the other hand, they have afforded companies increased opportunities for improving supply chain management. Managers need a solid understanding of the impact of these challenges because they are critical to a company's ability to grow its supply chain surplus. Increasing Product Variety and Shrinking Life Cycles One of the biggest challenges to maintaining strategic fit is the growth in product variety and the decrease in the life cycle of many products. Greater product variety and shorter life cycles increase uncertainty while reducing the window of opportunity within which the supply chain can achieve fit. The challenge gets magnified when companies continue to increase new products without maintaining the discipline of eliminating older ones. Apple has had great success limiting its product variety while continuing to introduce new products. This has allowed the company the luxury of dealing only with high-demand products for which it becomes easier to design an aligned supply chain. In general, however, firms must design product platforms with common components and maintain a tailored supply chain that contains a responsive solution to handle new products and other low-volume products and a low-cost solution to handle successful high-volume products. Simultaneously, variety must be limited to what truly adds value to the customer. This often requires the continuous elimination of older products.\n",
      "Globalization and Increasing Uncertainty Globalization has increased both the opportunities and risks for supply chains.\n",
      "The 21st century has started with significant fluctuations in exchange rates, global demand, and the price of crude oil, all factors that impact supply chain performance.\n",
      "In 2008 alone, the euro peaked in value at about $1.59 and went as low as $1.25. In 2001, the euro went as low as $0.85. After demand for automobiles in the United States peaked at more than 17 million vehicles, demand dropped significantly between November 2007 and October 2008. In October 2008, auto sales in the United States dropped by more than 30 percent relative to the same month the previous year. The drop in sales of larger vehicles was much more significant than the drop for smaller, more fuel-efficient cars. Crude oil peaked at more than $145 a barrel in July 2008 and was less than $50 a barrel by November 2008. Supply chains designed to handle these uncertainties have performed much better than those that ignored them. For example, Honda built flexible plants that were a great help in 2008 as demand for SUVs dropped but demand for small cars increased. Honda's flexible plants that  . produced both the CRV and small cars on the same line continued strong operations. In contrast, companies that had built plants dedicated to producing only large trucks and SUVs had a lot of difficulty in 2008 as demand dried up.\n",
      "Clearly, firms must account for global risks and uncertainties if they want to maintain strategic fit.\n",
      "Fragmentation of Supply Chain Ownership Over the past several decades, most firms have become less vertically integrated. As companies have shed noncore functions, they have been able to take advantage of supplier and customer competencies that they themselves did not have. This new ownership structure, however, has also made aligning and managing the supply chain more difficult. With the chain broken into many owners, each with its own policies and interests, the chain is more difficult to coordinate. This problem could potentially cause each stage of a supply chain to work only toward its own objectives rather than the whole chain's, resulting in the reduction of overall supply chain profitability. Aligning all members of a supply chain has become critical to achieving supply chain fit. Changing Technology and Business Environment As customer needs and technology change, firms are forced to constantly rethink their supply chain strategy. A strategy that may have been very successful in one environment can easily become a weakness in a changed setting. Dell is an excellent example of this difficulty. For more than a decade, Dell enjoyed tremendous success with a supply chain strategy based on selling customized PCs direct to customers. These PCs were built to order in flexible facilities. By about 2005, the market had moved toward laptops, and customers started to place less value on customization. As a result, Dell was forced to rethink its supply chain strategy and start selling through retail outlets. Simultaneously, it started to increase the amount of assembly that was outsourced to low-cost contract manufacturers. Another example is that of Blockbuster, which achieved tremendous success in the 1990s with stores that carried more variety of VHS tapes than existing video rental stores. With the growth of DVDs, Netflix used the postal system to ship an even greater variety of films at low cost from centralized distribution centers. The growth in bandwidth allowed Netflix to stream digital content directly to customer homes. Simultaneously, Redbox developed vending machines that allowed some DVDs to be rented at low cost. Blockbuster's inability to adjust to this transformation in technology and the business environment resulted in its bankruptcy in 2010. With a changing environment, companies must constantly evaluate their supply chain strategy to maintain strategic fit. The Environment and Sustainability Issues related to the environment and sustainability have grown in relevance and must be accounted for when designing supply chain strategy. In some instances, regulation has been driving changes; in others, change has been driven by the perception of the lack of sustainability as a risk factor. For example, the WEEE (Waste Electrical Electronic Equipment)/RoHS (Restricted Hazardous Substances) directives from the European Union forced cell phone manufacturers to rethink their design and sourcing strategies. Starbucks, in contrast, was forced to focus on local sustainability of its supply sources because a supply failure, especially for higher quality coffee, would have significantly impacted its ability to grow. The company developed sourcing guidelines to ensure that produced coffee met environmental and social performance criteria at each stage of the supply chain. Environmental issues represent a tremendous opportunity to firms that can often add value to customers and lower their own costs along this dimension (for example, with more appropriate packaging). These issues also represent a major challenge because some of the greatest opportunities require coordination across different members of the supply chain. To be successful, firms will need to design a strategy that engages the entire supply chain to identify and address opportunities for improved sustainability. Key Point Many challenges, such as rising product variety and shorter life cycles, have made it increasingly difficult for supply chains to achieve strategic fit. Overcoming these challenges offers a tremendous opportunity for firms to use supply chain management to gain competitive advantage. Explain why achieving strategic fit is critical to a company's overall success. A lack of strategic fit between the competitive and supply chain strategies can result in the supply chain taking actions that are not consistent with customer needs, leading to a reduction in supply chain surplus and decreasing supply chain profitability. Strategic fit requires that all functions within a firm and stages in the supply chain target the same goal, one that is consistent with customer needs. Describe how a company achieves strategic fit between its supply chain strategy and its competitive strategy. To achieve strategic fit, a company must first understand the needs of the customers being served, understand the uncertainty of the supply chain, and identify the implied uncertainty. The second step is to understand the supply chain's capabilities in terms of efficiency and responsiveness. The key to strategic fit is ensuring that supply chain responsiveness is consistent with customer needs, supply capabilities, and the resulting implied uncertainty. Tailoring the supply chain is essential to achieving strategic fit when supplying a wide variety of customers with many products through different channels. Discuss the importance of expanding the scope of strategic fit across the supply chain. The scope of strategic fit refers to the functions and stages within a supply chain that coordinate strategy and target a common goal. When the scope is narrow, individual functions try to optimize their performance based on their own goals. This practice often results in conflicting actions that reduce the supply chain surplus. As the scope of strategic fit is enlarged to include the entire supply chain, actions are evaluated based on their impact on overall supply chain performance, which helps increase supply chain surplus. Describe the major challenges that must be overcome to manage a supply chain successfully. Globalization, increasing product variety, decreasing product life cycles, fragmentation of supply chains, changing technologies, and an increased focus on sustainability represent significant challenges to achieving strategic fit. They also represent great opportunities for firms that can successfully address these challenges with their supply chain strategy.\n"
     ]
    }
   ],
   "source": [
    "for i in range(len(ParaSenList)):\n",
    "    ParaSen = ' '.join(ParaSenList[i])\n",
    "    print(ParaSen)\n",
    "    centroid_word_embedding_summarizer = text_summarizer.CentroidWordEmbeddingsSummarizer(embedding_model, preprocess_type='nltk')\n",
    "    centroid_word_embedding_summary = centroid_word_embedding_summarizer.summarize(ParaSen)\n",
    "\n",
    "    def Convert(string): \n",
    "        li = list(string.split(\"\\n\")) \n",
    "        return li \n",
    "\n",
    "    summary=Convert(centroid_word_embedding_summary)\n",
    "\n",
    "    import csv\n",
    "    from itertools import zip_longest\n",
    "\n",
    "    d = [ParaSenList[i], summary]\n",
    "    export_data = zip_longest(*d, fillvalue = '')\n",
    "    with open('./selectSentence/select_Sentence.csv', 'a', encoding='utf-8', newline='') as myfile:\n",
    "        wr = csv.writer(myfile)\n",
    "        wr.writerow((\"ParaSen\", \"Summary\"))\n",
    "        wr.writerows(export_data)\n",
    "    myfile.close()"
   ]
  },
  {
   "cell_type": "markdown",
   "metadata": {},
   "source": [
    "## 分開計算"
   ]
  },
  {
   "cell_type": "code",
   "execution_count": 75,
   "metadata": {},
   "outputs": [],
   "source": [
    "ParaSen = ' '.join(ParaSenList[27])\n",
    "centroid_word_embedding_summarizer = text_summarizer.CentroidWordEmbeddingsSummarizer(embedding_model, preprocess_type='nltk')\n",
    "centroid_word_embedding_summary = centroid_word_embedding_summarizer.summarize(ParaSen)"
   ]
  },
  {
   "cell_type": "code",
   "execution_count": 76,
   "metadata": {},
   "outputs": [
    {
     "name": "stdout",
     "output_type": "stream",
     "text": [
      "Dell is an excellent example of this difficulty.\n",
      "Simultaneously, it started to increase the amount of assembly that was outsourced to low-cost contract manufacturers.\n",
      "Environmental issues represent a tremendous opportunity to firms that can often add value to customers and lower their own costs along this dimension (for example, with more appropriate packaging).\n",
      "Describe how a company achieves strategic fit between its supply chain strategy and its competitive strategy.\n"
     ]
    }
   ],
   "source": [
    "print(centroid_word_embedding_summary)"
   ]
  },
  {
   "cell_type": "code",
   "execution_count": 68,
   "metadata": {},
   "outputs": [],
   "source": [
    "#把字串轉list\n",
    "def Convert(string): \n",
    "    li = list(string.split(\"\\n\")) \n",
    "    return li \n",
    "summary=Convert(centroid_word_embedding_summary)"
   ]
  }
 ],
 "metadata": {
  "kernelspec": {
   "display_name": "Python 3",
   "language": "python",
   "name": "python3"
  },
  "language_info": {
   "codemirror_mode": {
    "name": "ipython",
    "version": 3
   },
   "file_extension": ".py",
   "mimetype": "text/x-python",
   "name": "python",
   "nbconvert_exporter": "python",
   "pygments_lexer": "ipython3",
   "version": "3.7.0b2"
  }
 },
 "nbformat": 4,
 "nbformat_minor": 2
}
