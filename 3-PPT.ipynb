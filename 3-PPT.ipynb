{
 "cells": [
  {
   "cell_type": "code",
   "execution_count": 1,
   "metadata": {},
   "outputs": [],
   "source": [
    "import os\n",
    "import csv\n",
    "from pptx import Presentation\n",
    "import re\n",
    "import numpy as np # average, standard deviation, max\n",
    "from nltk.tokenize import sent_tokenize\n",
    "import sys\n",
    "import GetDocuments"
   ]
  },
  {
   "cell_type": "code",
   "execution_count": 2,
   "metadata": {},
   "outputs": [],
   "source": [
    "prs = Presentation('./PPT/ch4.pptx')\n",
    "slides = prs.slides\n",
    "Slides = []\n",
    "text_runs = []\n",
    "sid = 0"
   ]
  },
  {
   "cell_type": "code",
   "execution_count": 3,
   "metadata": {},
   "outputs": [],
   "source": [
    "for slide in prs.slides:\n",
    "    title = ''\n",
    "    if slide.shapes.title:\n",
    "        title = slide.shapes.title.text.lower()\n",
    "    for shape in slide.shapes:\n",
    "        content = ''\n",
    "        if not shape.has_text_frame:\n",
    "            continue\n",
    "        for paragraph in shape.text_frame.paragraphs:\n",
    "            text = ''\n",
    "            for run in paragraph.runs:\n",
    "                if len(run.text) > 0: text += run.text.lower()\n",
    "            if len(text) > 0:\n",
    "                content += text.replace('\\n', ' ').replace('\\t', ' ') + ' '\n",
    "        content = re.sub(' +', ' ', content) # remove duplicate spaces\n",
    "        content = '\\n'.join(sent_tokenize(content)) # split sentences\n",
    "        if sid > 0 and title == Slides[sid - 1]['title']:\n",
    "            Slides[sid - 1]['content'] = Slides[sid - 1]['content'] + '\\n' + content.strip() # combine the slides which have a same title\n",
    "        else:\n",
    "            Slides.append({'title': title, 'content': content.strip()})\n",
    "            sid += 1"
   ]
  },
  {
   "cell_type": "code",
   "execution_count": 20,
   "metadata": {},
   "outputs": [],
   "source": [
    "with open ('./PPT/ppt4.csv', 'w', newline = '', encoding = 'utf-8') as outFile:\n",
    "    writer = csv.DictWriter(outFile, fieldnames = ['title', 'content'])\n",
    "    writer.writeheader()\n",
    "    for slide in Slides:\n",
    "        writer.writerow(slide)"
   ]
  },
  {
   "cell_type": "code",
   "execution_count": 2,
   "metadata": {},
   "outputs": [],
   "source": [
    "''' get ppt, book and note contentes '''\n",
    "Slides = GetDocuments.GetSlides('./PPT/ppt4.csv')"
   ]
  },
  {
   "cell_type": "code",
   "execution_count": 3,
   "metadata": {},
   "outputs": [],
   "source": [
    "Corpus = [] # ppt slides + book paragraphs + note paragraphs\n",
    "for S in Slides:\n",
    "    Corpus.append(S['content'])\n",
    "# for P in ParagraphList:\n",
    "#     Corpus.append(P['content'])\n",
    "# for NP in MixedNoteParaList:\n",
    "#     Corpus.append(NP['content'])\n",
    "\n",
    "# tfidf_vectorizer = TfidfVectorizer()\n",
    "# TFIDFs = tfidf_vectorizer.fit_transform(Corpus).toarray()\n"
   ]
  },
  {
   "cell_type": "code",
   "execution_count": 4,
   "metadata": {},
   "outputs": [
    {
     "data": {
      "text/plain": [
       "['designing distribution networks and sales channels\\ndr. cheng-han wu industrial and information management, ncku',\n",
       " 'learning objectives\\nidentify the key factors to be considered when designing a distribution network.\\ndiscuss the strengths and weaknesses of various distribution options.\\nunderstand how online sales have affected the design of distribution networks in different industries.',\n",
       " 'the role of distribution in the supply chain\\ndistribution – the steps taken to move and store a product from the supplier stage to the customer stage in a supply chain drives profitability by directly affecting supply chain cost and the customer value choice of distribution network can achieve supply chain objectives from low cost to high responsiveness',\n",
       " 'factors influencingdistribution network design\\ndistribution network performance evaluated along two dimensions value provided to the customer cost of meeting customer needs evaluate the impact on customer service and cost for different distribution network options profitability of the delivery network determined by revenue from met customer needs and network costs\\nfactors influencingdistribution network design\\nelements of customer service influenced by network structure: response time product variety product availability customer experience time to market order visibility returnability\\nfactors influencingdistribution network design\\nsupply chain costs affected by network structure: inventories transportation facilities and handling information',\n",
       " 'desired response time and number of facilities\\nfigure 4-1',\n",
       " 'inventory costs and number of facilities\\nfigure 4-2',\n",
       " 'transportation costs andnumber of facilities\\nfigure 4-3',\n",
       " 'facility costs and number of facilities\\nfigure 4-4',\n",
       " 'logistics cost, response time, and number of facilities\\nfigure 4-5',\n",
       " 'design options for a distribution network\\ndistribution network choices from the manufacturer to the end consumer two key decisions will product be delivered to the customer location or picked up from a prearranged site?\\nwill product flow through an intermediary (or intermediate location)?\\ndesign options for a distribution network\\none of six designs may be used manufacturer storage with direct shipping manufacturer storage with direct shipping and in-transit merge distributor storage with carrier delivery distributor storage with last-mile delivery manufacturer/distributor storage with customer pickup retail storage with customer pickup',\n",
       " 'manufacturer storage withdirect shipping\\nfigure 4-6',\n",
       " 'manufacturer storage with direct shipping network\\ntable 4-1\\nmanufacturer storage with direct shipping network\\ntable 4-1 continued',\n",
       " 'in-transit merge network\\nfigure 4-7',\n",
       " 'in-transit merge\\ntable 4-2\\nin-transit merge\\ntable 4-2 continued',\n",
       " 'distributor storage withcarrier delivery\\nfigure 4-8\\ndistributor storage withcarrier delivery\\ntable 4-3\\ndistributor storage withcarrier delivery\\ntable 4-3 continued',\n",
       " 'distributor storage withlast mile delivery\\nfigure 4-9\\ndistributor storage withlast mile delivery\\ntable 4-4\\ndistributor storage withlast mile delivery\\ntable 4-4 continued',\n",
       " 'manufacturer or distributor storage with customer pickup\\nfigure 4-10\\nmanufacturer or distributor storage with customer pickup\\ntable 4-5\\nmanufacturer or distributor storage with customer pickup\\ntable 4-5 continued',\n",
       " 'retail storage with customer pickup\\ntable 4-6\\nretail storage with customer pickup\\ntable 4-6 continued',\n",
       " 'comparative performance of delivery network designs\\ntable 4-7',\n",
       " 'delivery networks for different product/ customer characteristics\\ntable 4-8',\n",
       " 'impact of online sales on customer service\\nresponse time to customers physical products take longer to fulfill than retail store no delay for information goods product variety easier to offer larger selection product availability aggregating inventory and better information on customer preferences improves product availability\\nimpact of online sales on customer service\\ncustomer experience improved access, customization, and convenience faster time to market order visibility returnability harder with online orders proportion of returns likely to be much higher\\nimpact of online sales on customer service\\ndirect sales to customers social networking channels allow firms to directly pitch products and promotion flexible pricing, product portfolio, and promotions manage revenues from product portfolio more effectively than traditional channels promotion information can be conveyed to customers quickly and inexpensively efficient funds transfer',\n",
       " 'impact of online sales on cost\\ninventory lower inventory levels if customers will wait postpone variety until after the customer order is received facilities costs related to the number and location of facilities in a network costs associated with the operations in these facilities\\nimpact of online sales on cost\\ntransportation lower cost of “transporting” information goods in digital form for nondigital, aggregating inventories increases outbound transportation information share demand, planning, and forecasting information throughout its supply chain additional costs to build and maintain the information infrastructure',\n",
       " 'online sales scorecard\\ntable 4-9',\n",
       " 'using online sales to sell computer hardware: dell\\nimpact of online sales on customer service delay in fulfilling customer request impact of online sales on cost reduced inventory costs lower facility costs higher total transportation costs incremental increase in information costs',\n",
       " 'impact of online sales on performance\\ntable 4-10 key: +2 = very positive; +1 = positive; 0 = neutral; −1 = negative; −2 = very negative.',\n",
       " 'using online sales to sell computer hardware: dell\\na tailored supply chain network a hybrid model can be very effective more significant as hardware becomes more of a commodity take advantage of the strengths of both online sales and traditional retail and distribution channels',\n",
       " 'using online sales to sell books: amazon\\nimpact of online sales on customer service internet has not shortened supply chains increased selection, convenience cost impact of online sales reduced inventory costs lower facility costs higher total transportation costs increase in information costs',\n",
       " 'impact of online sales on performance\\ntable 4-11\\nkey: +2 = very positive; +1 = positive; 0 = neutral; −1 = negative; −2 = very negative.',\n",
       " 'using online sales to sell books: amazon\\ntailored supply chain network for books traditional bookstores pressured from both ends amazon more efficient',\n",
       " 'using the internet to sell groceries: peapod\\nimpact of online sales on customer service sell convenience and the time savings offers less variety creating a personalized shopping experience and customized advertising and promotions\\nusing the internet to sell groceries: peapod\\nimpact of online sales on cost reduced inventory costs higher facility costs due to picking operation significantly higher total transportation costs increase in information costs',\n",
       " 'impact of online sales on performance\\ntable 4-12\\nkey: +2 = very positive; +1 = positive; 0 = neutral; −1 = negative; −2 = very negative.',\n",
       " 'using internet to sell groceries: peapod\\na tailored supply chain for groceries complement the strengths of their existing network offer an entire array of services at differing prices based on the amount of work the customer does',\n",
       " 'using the internet to rent movies: netflix\\nimpact of online sales on customer service staggering selection and an excellent recommendation engine video streaming through a variety of devices customers received their dvds within 24 hours of being shipped\\nusing the internet to rent movies: netflix\\nimpact of online sales on cost reduced inventory costs lower facility costs considerably higher total transportation costs, increased streaming will reduce transportation costs increase in information costs',\n",
       " 'impact of online sales on performance\\ntable 4-12\\nkey: +2 = very positive; +1 = positive; 0 = neutral; −1 = negative; −2 = very negative.',\n",
       " 'using the internet to rent movies: netflix\\na tailored supply chain centralized model to supply wide variety of movies other vendors have chosen different models',\n",
       " 'distribution networks in practice\\nthe ownership structure of the distribution network can have as big as an impact as the type of distribution network it is important to have adaptable distribution networks product price, commoditization, and criticality affect the type of distribution system preferred by customers integrate the internet with the existing physical network\\ndistribution networks in practice\\nconsider whether an exclusive distribution strategy is advantageous product, price, commoditization, and criticality have an impact on the type of distribution system preferred by customers',\n",
       " 'summary of learning objectives\\nidentify the key factors to be considered when designing a distribution network.\\ndiscuss the strengths and weaknesses of various distribution options.\\nunderstand how online sales have affected the design of distribution networks in different industries.']"
      ]
     },
     "execution_count": 4,
     "metadata": {},
     "output_type": "execute_result"
    }
   ],
   "source": [
    "Corpus"
   ]
  },
  {
   "cell_type": "code",
   "execution_count": null,
   "metadata": {},
   "outputs": [],
   "source": []
  }
 ],
 "metadata": {
  "kernelspec": {
   "display_name": "Python 3",
   "language": "python",
   "name": "python3"
  },
  "language_info": {
   "codemirror_mode": {
    "name": "ipython",
    "version": 3
   },
   "file_extension": ".py",
   "mimetype": "text/x-python",
   "name": "python",
   "nbconvert_exporter": "python",
   "pygments_lexer": "ipython3",
   "version": "3.7.0b2"
  }
 },
 "nbformat": 4,
 "nbformat_minor": 2
}
