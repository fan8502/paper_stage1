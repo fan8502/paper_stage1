{
 "cells": [
  {
   "cell_type": "code",
   "execution_count": 16,
   "metadata": {},
   "outputs": [],
   "source": [
    "from sklearn.feature_extraction.text import CountVectorizer\n",
    "from sklearn.feature_extraction.text import TfidfVectorizer\n",
    "from sklearn.feature_extraction.text import TfidfTransformer\n",
    "from sklearn.metrics.pairwise import cosine_similarity\n",
    "import numpy as np # average, standard deviation, max\n",
    "from numpy import linalg # l2 norm"
   ]
  },
  {
   "cell_type": "code",
   "execution_count": 2,
   "metadata": {},
   "outputs": [],
   "source": [
    "import GetDocuments\n",
    "import re\n",
    "StopWords = GetDocuments.GetStopWords('stopwords.txt')"
   ]
  },
  {
   "cell_type": "code",
   "execution_count": 3,
   "metadata": {
    "scrolled": true
   },
   "outputs": [],
   "source": [
    "#打開考題-Lines_test\n",
    "with open ('test_1.txt', 'r', encoding = 'utf-8-sig') as inFile_test:\n",
    "    Lines_test = inFile_test.readlines()\n",
    "for tid in range(len(Lines_test)):\n",
    "    Lines_test[tid] = Lines_test[tid].replace('\\n', '').strip()"
   ]
  },
  {
   "cell_type": "code",
   "execution_count": 5,
   "metadata": {},
   "outputs": [
    {
     "data": {
      "text/plain": [
       "['Each stage in a supply chain is connected through the flow of products, information, and funds. These flows often occur in both directions and are usually managed by one of the stages.',\n",
       " 'A supply chain features a constant flow of information, product and funds.',\n",
       " 'Which set of supply chain flows is correctly described Information and product both flow upstream and downstream in a supply chain.']"
      ]
     },
     "execution_count": 5,
     "metadata": {},
     "output_type": "execute_result"
    }
   ],
   "source": [
    "Lines_test[:3]"
   ]
  },
  {
   "cell_type": "code",
   "execution_count": 6,
   "metadata": {},
   "outputs": [],
   "source": [
    "#打開課本-Lines\n",
    "with open ('Chapter1_after.txt', 'r', encoding = 'UTF-8') as inFile:\n",
    "    Lines = inFile.readlines()\n",
    "del(Lines[0]) #刪除課本第一句(標題無用)\n",
    "for lid in range(len(Lines)):\n",
    "    Lines[lid] = Lines[lid].replace('\\n', '').strip()"
   ]
  },
  {
   "cell_type": "code",
   "execution_count": 7,
   "metadata": {},
   "outputs": [
    {
     "data": {
      "text/plain": [
       "['Discuss the goal of a supply chain and explain the impact of supply chain decisions on the success of a firm.',\n",
       " 'Identify the three key supply chain decision phases and explain the significance of each one.',\n",
       " 'Describe the cycle and push/pull views of a supply chain.']"
      ]
     },
     "execution_count": 7,
     "metadata": {},
     "output_type": "execute_result"
    }
   ],
   "source": [
    "Lines[:3]"
   ]
  },
  {
   "cell_type": "code",
   "execution_count": 8,
   "metadata": {},
   "outputs": [],
   "source": [
    "Corpus = []\n",
    "for ts in Lines_test:\n",
    "    for tsw in StopWords:\n",
    "        if re.match(tsw + ' ', ts): ts = ts.replace(tsw, '').strip()\n",
    "        elif re.search(' ' + tsw + ' ', ts): ts = ts.replace(' ' + tsw + ' ', ' ')\n",
    "    Corpus.append(ts.lower())"
   ]
  },
  {
   "cell_type": "code",
   "execution_count": 10,
   "metadata": {},
   "outputs": [],
   "source": [
    "for s in Lines:\n",
    "    for sw in StopWords:\n",
    "        if re.match(sw + ' ', s): s = s.replace(sw, '').strip()\n",
    "        elif re.search(' ' + sw + ' ', s): s = s.replace(' ' + sw + ' ', ' ')\n",
    "    Corpus.append(s.lower())"
   ]
  },
  {
   "cell_type": "code",
   "execution_count": 12,
   "metadata": {},
   "outputs": [],
   "source": [
    "Corpus?"
   ]
  },
  {
   "cell_type": "code",
   "execution_count": 13,
   "metadata": {},
   "outputs": [],
   "source": [
    "tfidf_vectorizer = TfidfVectorizer()\n",
    "TFIDFs = tfidf_vectorizer.fit_transform(Corpus).toarray()"
   ]
  },
  {
   "cell_type": "code",
   "execution_count": 14,
   "metadata": {},
   "outputs": [],
   "source": [
    "TFIDFs?"
   ]
  },
  {
   "cell_type": "code",
   "execution_count": 27,
   "metadata": {},
   "outputs": [],
   "source": [
    "testCossimList = []\n",
    "CosPMatchTestList = []\n",
    "for i in range(len(Lines_test)):\n",
    "    testCossimList.append([])\n",
    "    for pid in range(len(Lines)):\n",
    "        j = pid + len(Lines_test)\n",
    "        testCossimList[i].append(cosine_similarity(TFIDFs[i].reshape(1, -1), TFIDFs[j].reshape(1, -1))[0][0])\n",
    "    tmpCossimList = np.array(testCossimList[i])\n",
    "    pid = np.argmax(tmpCossimList)\n",
    "    if testCossimList[i][pid] < 0.1: CosPMatchTestList.append((None, None))\n",
    "    else: CosPMatchTestList.append((pid, testCossimList[i][pid]))"
   ]
  },
  {
   "cell_type": "code",
   "execution_count": 40,
   "metadata": {},
   "outputs": [
    {
     "data": {
      "text/plain": [
       "'As a result, each category of decisions must consider uncertainty over the decision horizon.'"
      ]
     },
     "execution_count": 40,
     "metadata": {},
     "output_type": "execute_result"
    }
   ],
   "source": [
    "Lines[155]"
   ]
  },
  {
   "cell_type": "code",
   "execution_count": 19,
   "metadata": {
    "scrolled": true
   },
   "outputs": [
    {
     "data": {
      "text/plain": [
       "[(44, 0.6314947983333835),\n",
       " (21, 0.6173058055473645),\n",
       " (78, 0.2581330222893973),\n",
       " (44, 0.3910663498625448),\n",
       " (45, 0.4033980826289796),\n",
       " (432, 0.45998161158986894),\n",
       " (73, 0.8024136009251905),\n",
       " (432, 0.5247519662932861),\n",
       " (55, 0.908742360742979),\n",
       " (87, 0.6880361991221375),\n",
       " (73, 1.0),\n",
       " (119, 0.751849499910702),\n",
       " (381, 1.0),\n",
       " (107, 0.5683480323894827),\n",
       " (29, 0.31627010613172657),\n",
       " (100, 0.6049138689741),\n",
       " (158, 0.34554653321234075),\n",
       " (155, 0.24863192525437416),\n",
       " (182, 0.44342434005525033),\n",
       " (175, 0.830622140050672)]"
      ]
     },
     "execution_count": 19,
     "metadata": {},
     "output_type": "execute_result"
    }
   ],
   "source": [
    "CosPMatchTestList"
   ]
  },
  {
   "cell_type": "code",
   "execution_count": 46,
   "metadata": {},
   "outputs": [
    {
     "name": "stdout",
     "output_type": "stream",
     "text": [
      "[[2, 2, 2, 2, 2]]\n",
      "[[2, 2, 2, 2, 2], [2, 2, 2, 2, 2]]\n",
      "[[2, 2, 2, 2, 2], [2, 2, 2, 2, 2], [2, 2, 2, 2, 2]]\n",
      "[[2, 2, 2, 2, 2], [2, 2, 2, 2, 2], [2, 2, 2, 2, 2], [2, 2, 2, 2, 2]]\n",
      "[[2, 2, 2, 2, 2], [2, 2, 2, 2, 2], [2, 2, 2, 2, 2], [2, 2, 2, 2, 2], [2, 2, 2, 2, 2]]\n",
      "[[2, 2, 2, 2, 2], [2, 2, 2, 2, 2], [2, 2, 2, 2, 2], [2, 2, 2, 2, 2], [2, 2, 2, 2, 2], [2, 2, 2, 2, 2]]\n",
      "[[2, 2, 2, 2, 2], [2, 2, 2, 2, 2], [2, 2, 2, 2, 2], [2, 2, 2, 2, 2], [2, 2, 2, 2, 2], [2, 2, 2, 2, 2], [2, 2, 2, 2, 2]]\n",
      "[[2, 2, 2, 2, 2], [2, 2, 2, 2, 2], [2, 2, 2, 2, 2], [2, 2, 2, 2, 2], [2, 2, 2, 2, 2], [2, 2, 2, 2, 2], [2, 2, 2, 2, 2], [2, 2, 2, 2, 2]]\n",
      "[[2, 2, 2, 2, 2], [2, 2, 2, 2, 2], [2, 2, 2, 2, 2], [2, 2, 2, 2, 2], [2, 2, 2, 2, 2], [2, 2, 2, 2, 2], [2, 2, 2, 2, 2], [2, 2, 2, 2, 2], [2, 2, 2, 2, 2]]\n",
      "[[2, 2, 2, 2, 2], [2, 2, 2, 2, 2], [2, 2, 2, 2, 2], [2, 2, 2, 2, 2], [2, 2, 2, 2, 2], [2, 2, 2, 2, 2], [2, 2, 2, 2, 2], [2, 2, 2, 2, 2], [2, 2, 2, 2, 2], [2, 2, 2, 2, 2]]\n"
     ]
    }
   ],
   "source": [
    "a = []\n",
    "for i in range(10):\n",
    "    a.append([])\n",
    "    for pid in range(5):\n",
    "        a[i].append(2)\n",
    "    print(a)"
   ]
  },
  {
   "cell_type": "code",
   "execution_count": null,
   "metadata": {},
   "outputs": [],
   "source": []
  }
 ],
 "metadata": {
  "kernelspec": {
   "display_name": "Python 3",
   "language": "python",
   "name": "python3"
  },
  "language_info": {
   "codemirror_mode": {
    "name": "ipython",
    "version": 3
   },
   "file_extension": ".py",
   "mimetype": "text/x-python",
   "name": "python",
   "nbconvert_exporter": "python",
   "pygments_lexer": "ipython3",
   "version": "3.7.0b2"
  }
 },
 "nbformat": 4,
 "nbformat_minor": 2
}
