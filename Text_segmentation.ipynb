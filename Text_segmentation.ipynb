{
 "cells": [
  {
   "cell_type": "code",
   "execution_count": 34,
   "metadata": {},
   "outputs": [],
   "source": [
    "with open ('./Chapter/Chapter-2.txt', 'r', encoding = 'utf-8-sig') as inFile:\n",
    "    Lines = inFile.readlines()"
   ]
  },
  {
   "cell_type": "code",
   "execution_count": 39,
   "metadata": {},
   "outputs": [],
   "source": [
    "Del = ['FIGURE','STEP','Chapter 2','2.1','2.2','2.3','2.4','2.5']\n",
    "for lid in range(len(Lines)):\n",
    "    for d in Del:\n",
    "        if d in Lines[lid]:\n",
    "            Lines.remove(Lines) #要先打Lines[lid]執行過"
   ]
  },
  {
   "cell_type": "code",
   "execution_count": 40,
   "metadata": {},
   "outputs": [],
   "source": [
    "for sid in range(len(Lines)):\n",
    "    if len(Lines[sid])<=30 and Lines[sid] !='\\n' :\n",
    "        Lines[sid]=''\n",
    "while '' in Lines:\n",
    "    Lines.remove('')"
   ]
  },
  {
   "cell_type": "code",
   "execution_count": 41,
   "metadata": {},
   "outputs": [],
   "source": [
    "text = ''.join(Lines)"
   ]
  },
  {
   "cell_type": "code",
   "execution_count": 42,
   "metadata": {},
   "outputs": [],
   "source": [
    "import re;\n",
    "text=text.replace('\\n\\n\\n\\n', '\\n\\n')\n",
    "p=re.compile('\\n\\n',re.S)\n",
    "paraList=p.split(text)"
   ]
  },
  {
   "cell_type": "code",
   "execution_count": 43,
   "metadata": {},
   "outputs": [
    {
     "data": {
      "text/plain": [
       "132"
      ]
     },
     "execution_count": 43,
     "metadata": {},
     "output_type": "execute_result"
    }
   ],
   "source": [
    "len(paraList)"
   ]
  },
  {
   "cell_type": "code",
   "execution_count": 45,
   "metadata": {},
   "outputs": [],
   "source": [
    "import TSF2"
   ]
  },
  {
   "cell_type": "code",
   "execution_count": 46,
   "metadata": {},
   "outputs": [
    {
     "name": "stdout",
     "output_type": "stream",
     "text": [
      "Avg = -0.07583635082270224\n",
      "Dev = 1.0017356649109481\n"
     ]
    }
   ],
   "source": [
    "K = 2 # the number of sentences in a block\n",
    "THRESHOLD_DISSIM = 0.4 #根據Kern and Granitzer (2009)的建議訂為0.7。\n",
    "ParaSenList = TSF2.SegementPara(paraList, K, THRESHOLD_DISSIM)"
   ]
  },
  {
   "cell_type": "code",
   "execution_count": 47,
   "metadata": {},
   "outputs": [
    {
     "name": "stdout",
     "output_type": "stream",
     "text": [
      "0 4\n",
      "1 5\n",
      "2 2\n",
      "3 9\n",
      "4 6\n",
      "5 2\n",
      "6 4\n",
      "7 1\n",
      "8 2\n",
      "9 10\n",
      "10 5\n",
      "11 3\n",
      "12 5\n",
      "13 6\n",
      "14 2\n",
      "15 2\n",
      "16 2\n",
      "17 2\n",
      "18 7\n",
      "19 6\n",
      "20 6\n",
      "21 2\n",
      "22 18\n",
      "23 3\n",
      "24 3\n",
      "25 2\n",
      "26 11\n",
      "27 2\n",
      "------\n",
      "28\n"
     ]
    }
   ],
   "source": [
    "for i in range(len(ParaSenList)):\n",
    "    print (i,len(ParaSenList[i]))\n",
    "print('------')\n",
    "print(len(ParaSenList))"
   ]
  },
  {
   "cell_type": "code",
   "execution_count": 50,
   "metadata": {},
   "outputs": [],
   "source": [
    "for i in range(len(ParaSenList)):\n",
    "    if len(ParaSenList[i]) <=2 : #要執行三遍\n",
    "        ParaSenList[i-1].extend(ParaSenList[i])\n",
    "        try:\n",
    "            ParaSenList.remove(ParaSenList[i])\n",
    "        except ValueError:\n",
    "            pass"
   ]
  },
  {
   "cell_type": "code",
   "execution_count": 51,
   "metadata": {},
   "outputs": [
    {
     "name": "stdout",
     "output_type": "stream",
     "text": [
      "0 4\n",
      "1 7\n",
      "2 9\n",
      "3 8\n",
      "4 7\n",
      "5 10\n",
      "6 5\n",
      "7 3\n",
      "8 5\n",
      "9 8\n",
      "10 6\n",
      "11 7\n",
      "12 6\n",
      "13 8\n",
      "14 18\n",
      "15 3\n",
      "16 5\n",
      "17 13\n",
      "------\n",
      "18\n"
     ]
    }
   ],
   "source": [
    "for i in range(len(ParaSenList)):\n",
    "    print (i,len(ParaSenList[i]))\n",
    "print('------')\n",
    "print(len(ParaSenList))"
   ]
  },
  {
   "cell_type": "code",
   "execution_count": 58,
   "metadata": {},
   "outputs": [
    {
     "name": "stdout",
     "output_type": "stream",
     "text": [
      "finished\n"
     ]
    }
   ],
   "source": [
    "fileWriter=open('./TS/'+'0.txt','a',encoding='utf8');#创建一个写文件的句柄\n",
    "for paraIndex in range(len(ParaSenList)):#遍历切片后的文本列表\n",
    "    fileWriter.write(str(ParaSenList[paraIndex]));#先将列表中第一个元素写入文件中\n",
    "#     if((paraIndex+1)%2==0):#判断是否写够3个切片，如果已经够了\n",
    "    fileWriter.close(); #关闭当前句柄\n",
    "    fileWriter=open('./TS/'+str(paraIndex+1)+'.txt','a',encoding='utf8'); #重新创建一个新的句柄，等待写入下一个切片元素。注意这里文件名的处理技巧。\n",
    "fileWriter.close();#关闭最后创建的那个写文件句柄\n",
    "print('finished')"
   ]
  },
  {
   "cell_type": "code",
   "execution_count": null,
   "metadata": {},
   "outputs": [],
   "source": []
  }
 ],
 "metadata": {
  "kernelspec": {
   "display_name": "Python 3",
   "language": "python",
   "name": "python3"
  },
  "language_info": {
   "codemirror_mode": {
    "name": "ipython",
    "version": 3
   },
   "file_extension": ".py",
   "mimetype": "text/x-python",
   "name": "python",
   "nbconvert_exporter": "python",
   "pygments_lexer": "ipython3",
   "version": "3.7.0b2"
  }
 },
 "nbformat": 4,
 "nbformat_minor": 2
}
